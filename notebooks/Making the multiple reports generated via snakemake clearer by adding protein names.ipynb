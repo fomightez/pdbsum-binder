{
 "cells": [
  {
   "cell_type": "markdown",
   "metadata": {},
   "source": [
    "## Making the multiple reports generated via snakemake clearer by adding protein names"
   ]
  },
  {
   "cell_type": "markdown",
   "metadata": {},
   "source": [
    "This notebook builds on the previous notebook, [Using snakemake to highlight changes in multiple protein-protein interactions via PDBsum data](notebooks/Using%20snakemake%20to%20highlight%20changes%20in%20multiple%20protein-protein%20interactions%20via%20PDBsum%20data.ipynb);however, you don't need to have just run that Jupyter notebook as the option to get a previous set of resulting notebooks and use them. \n",
    "\n",
    "\n",
    "----"
   ]
  },
  {
   "cell_type": "markdown",
   "metadata": {},
   "source": [
    "If you just ran the previous notebook in this session, you don't need to run this next cell; however, it has been set up to cause no issues if you did and run it again.  \n",
    "If you don't yet have notebooks resulting from the previous notebook, it will get a set of demonstration results previously generated so that the rest of the cells in this notebook will work."
   ]
  },
  {
   "cell_type": "code",
   "execution_count": 1,
   "metadata": {},
   "outputs": [
    {
     "name": "stdout",
     "output_type": "stream",
     "text": [
      "  % Total    % Received % Xferd  Average Speed   Time    Time     Time  Current\n",
      "                                 Dload  Upload   Total   Spent    Left  Speed\n",
      "100  5489  100  5489    0     0   9943      0 --:--:-- --:--:-- --:--:--  9943\n"
     ]
    },
    {
     "name": "stderr",
     "output_type": "stream",
     "text": [
      "A set of notebooks with reports like those the previous notebook would make have been retrieved.\n",
      "You should be able to now run this notebok."
     ]
    }
   ],
   "source": [
    "# Check if there seems to already be result notebooks. If there\n",
    "# doesn't seem to be get one and unpack it.\n",
    "prefix_for_report_nbs = \"interactions_report_for_\"\n",
    "import os\n",
    "import sys\n",
    "import fnmatch\n",
    "interactions_report_nb_pattern = f\"{prefix_for_report_nbs}*.ipynb\"\n",
    "interactions_report_nbs = []\n",
    "for file in os.listdir('.'):\n",
    "    if fnmatch.fnmatch(file, interactions_report_nb_pattern):\n",
    "        interactions_report_nbs.append(file)\n",
    "if not interactions_report_nbs:\n",
    "    !curl -OL https://gist.githubusercontent.com/fomightez/a335d9aa051c92ab289bd9bda34c577c/raw/d8bbc3cb34bbbb765c252a2f94f8dee5787b65a1/interactions_report_nbsJan2220210159.tar.gz\n",
    "    !tar xzf interactions_report_nbsJan2220210159.tar.gz\n",
    "    # verify it worked and previde feedback\n",
    "    for file in os.listdir('.'):\n",
    "        if fnmatch.fnmatch(file, interactions_report_nb_pattern):\n",
    "            interactions_report_nbs.append(file)\n",
    "    if interactions_report_nbs:\n",
    "        sys.stderr.write(\"A set of notebooks with reports like those the \"\n",
    "            \"previous notebook would make have been retrieved.\\nYou should be \"\n",
    "            \"able to now run this notebok.\")\n",
    "    else:\n",
    "        sys.stderr.write(\"No notebooks are present. THIS ISN'T GOING TO WORK!\")\n",
    "else:\n",
    "    sys.stderr.write(\"A set of notebooks with reports are present and\\n\"\n",
    "        \"executing the cells in this notebook should work now.\")"
   ]
  },
  {
   "cell_type": "markdown",
   "metadata": {},
   "source": [
    "To define the replacements to make to make the notebooks more readable, the following cell will relate the text to change to new values in a set of key-value pairings. If you ran the demonstration and are continuing to use that, you can just run the cell. If you trying to make this notebook edit your own reports, you'll need to change the text on the left of the colon to match the chain designations and the text on the right to match the protein names. (The case of the letters in the text on the left side will be ignored.)"
   ]
  },
  {
   "cell_type": "code",
   "execution_count": 2,
   "metadata": {},
   "outputs": [],
   "source": [
    "chain2name_pairs = {\n",
    "    \"Chain R\":\"WDR5\",\n",
    "    \"Chain N\":\"RBBP5\",\n",
    "    \"Chain K\":\"MLL1\",\n",
    "}"
   ]
  },
  {
   "cell_type": "markdown",
   "metadata": {},
   "source": [
    "Then run the next cell to go through every notebook and swap the text on the left side of the colon to be the text on the right side."
   ]
  },
  {
   "cell_type": "code",
   "execution_count": 3,
   "metadata": {},
   "outputs": [
    {
     "name": "stderr",
     "output_type": "stream",
     "text": [
      "Chain designations swapped for names in interactions_report_for_6kiz_N_R_6kix_N_R.ipynb.\n",
      "Chain designations swapped for names in interactions_report_for_6kiv_R_K_6kix_R_K.ipynb.\n",
      "Chain designations swapped for names in interactions_report_for_6kiv_N_R_6kiz_N_R.ipynb.\n",
      "Chain designations swapped for names in interactions_report_for_6kiv_R_K_6kiz_R_K.ipynb.\n",
      "Chain designations swapped for names in interactions_report_for_6kiv_K_N_6kix_K_N.ipynb.\n",
      "Chain designations swapped for names in interactions_report_for_6kiv_K_N_6kiz_K_N.ipynb.\n",
      "Chain designations swapped for names in interactions_report_for_6kiv_N_R_6kix_N_R.ipynb.\n"
     ]
    }
   ],
   "source": [
    "# Make a list of the report-containing notebooks and then make the text swaps\n",
    "prefix_for_report_nbs = \"interactions_report_for_\"\n",
    "import os\n",
    "import sys\n",
    "import fnmatch\n",
    "import re\n",
    "interactions_report_nb_pattern = f\"{prefix_for_report_nbs}*.ipynb\"\n",
    "interactions_report_nbs = []\n",
    "for file in os.listdir('.'):\n",
    "    if fnmatch.fnmatch(file, interactions_report_nb_pattern):\n",
    "        interactions_report_nbs.append(file)\n",
    "def make_swaps(file_name,key_value_pairs):\n",
    "    '''\n",
    "    Takes a file name and edits every occurence of each key in all of them,\n",
    "    replacing that text with the corresponding value.\n",
    "    Saves the fixed file. Nothing is returned from this function.\n",
    "    '''\n",
    "    output_file_name = \"temp.txt\"\n",
    "    with open(file_name, 'r') as thefile:\n",
    "        nb_text=thefile.read()\n",
    "    for k,v in key_value_pairs.items():\n",
    "        #nb_text=nb_text.replace(k.lower(),v) # if wasn't case insensitive for key\n",
    "        # case-insensitive string replacement from https://stackoverflow.com/a/919067/8508004\n",
    "        insensitive = re.compile(re.escape(k), re.IGNORECASE)\n",
    "        nb_text = insensitive.sub(v, nb_text)\n",
    "    with open(output_file_name, 'w') as output_file:\n",
    "        output_file.write(nb_text)\n",
    "    # replace the original file with edited\n",
    "    !mv {output_file_name} {file_name}\n",
    "    # Feedback\n",
    "    sys.stderr.write(\"Chain designations swapped for names in {}.\\n\".format(file_name))\n",
    "\n",
    "for nbn in interactions_report_nbs:\n",
    "    make_swaps(nbn,chain2name_pairs)"
   ]
  },
  {
   "cell_type": "markdown",
   "metadata": {},
   "source": [
    "Check the notebook files by examining them. The occurences of 'chain' followed by the chain designations should have been swapped for the proteins names."
   ]
  },
  {
   "cell_type": "markdown",
   "metadata": {},
   "source": [
    "-----\n",
    "\n",
    "Now you can go back to the previous notebook and run through the set of interactions that interest you in some pairs of structures and then come and edit this notebook to make your reports have the name of the protein."
   ]
  }
 ],
 "metadata": {
  "kernelspec": {
   "display_name": "Python 3",
   "language": "python",
   "name": "python3"
  },
  "language_info": {
   "codemirror_mode": {
    "name": "ipython",
    "version": 3
   },
   "file_extension": ".py",
   "mimetype": "text/x-python",
   "name": "python",
   "nbconvert_exporter": "python",
   "pygments_lexer": "ipython3",
   "version": "3.7.8"
  }
 },
 "nbformat": 4,
 "nbformat_minor": 4
}
