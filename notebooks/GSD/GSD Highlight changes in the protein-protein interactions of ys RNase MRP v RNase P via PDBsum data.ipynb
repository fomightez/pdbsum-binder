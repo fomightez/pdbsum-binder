{
 "cells": [
  {
   "cell_type": "markdown",
   "metadata": {},
   "source": [
    "# GSD Highlight changes in the protein-protein interactions of ys RNase MRP vs. RNase P via PDBsum data"
   ]
  },
  {
   "cell_type": "markdown",
   "metadata": {},
   "source": [
    "This is an effort to adapt the generic notebook I made to look at protein-protein interactions in pairs of related structures to look at the combinations of protein-protein interactions for yeast RNase MRP vs. RNase P.\n",
    "\n",
    "----"
   ]
  },
  {
   "cell_type": "markdown",
   "metadata": {},
   "source": [
    "\n",
    "**Step #1:** Make a table with a matrix of the protein-protein combinations in the pairs of cryo-EM structures of RNase MRP and RNase P.\n",
    "\n",
    "I used the PDBsum pages for protein-protein interactions make this table. I could have computationally generated the combinations; however, that way several will not be actually relevant and so instead of sorting out which ones actually return an 'empty' list of interactions for both structures from PDBsum (which shouldn't be too hard and could be added so down the road one could just supply two PDB code ids and let all the reports get generated, plus note that it has to be emptry for both structures because if one has none and the other has some like Pop1p[chain B] and Pop5p[chain E] that interact in Rnase P but not in RNase MRP, this is definitely important differences to catch; just to not the flip side of that is that in Rnase MRP Pop1p gains interactions with Rmp1[chain L] and Pop4p[Chain D] not seen in RNase P), I just decided to construct it myself so nothing is missed due to an error in handling the steps for doing it that way. Plus certain combinations were originally the impetus for this effort and so those were actuall added first and then I expanded out to check the other interactions."
   ]
  },
  {
   "cell_type": "code",
   "execution_count": 1,
   "metadata": {},
   "outputs": [
    {
     "name": "stdout",
     "output_type": "stream",
     "text": [
      "Writing 's' (str) to file 'int_matrix.txt'.\n"
     ]
    }
   ],
   "source": [
    "s='''7c7a F G 6ah3 F G\n",
    "7c7a F B 6ah3 F B\n",
    "7c7a G B 6ah3 G B\n",
    "7c7a E B 6ah3 E B\n",
    "7c7a I B 6ah3 I B\n",
    "7c7a F I 6ah3 F I\n",
    "7c7a G E 6ah3 G E\n",
    "7c7a I E 6ah3 I E\n",
    "'''\n",
    "%store s >int_matrix.txt"
   ]
  },
  {
   "cell_type": "markdown",
   "metadata": {},
   "source": [
    "**Step #2:** Move the Snakefile to process the table of interactions to this directory."
   ]
  },
  {
   "cell_type": "code",
   "execution_count": 2,
   "metadata": {},
   "outputs": [],
   "source": [
    "!cp ../Snakefile ."
   ]
  },
  {
   "cell_type": "markdown",
   "metadata": {},
   "source": [
    "**Step #3:** Run snakemake and it will process the `int_matrix.txt` file to extract the information and make individual notebooks corresponding to analysis of the interactions for each line.  "
   ]
  },
  {
   "cell_type": "code",
   "execution_count": 3,
   "metadata": {
    "scrolled": false
   },
   "outputs": [
    {
     "name": "stdout",
     "output_type": "stream",
     "text": [
      "\u001b[33mBuilding DAG of jobs...\u001b[0m\n",
      "\u001b[33mUsing shell: /bin/bash\u001b[0m\n",
      "\u001b[33mProvided cores: 1 (use --cores to define parallelism)\u001b[0m\n",
      "\u001b[33mRules claiming more threads will be scaled down.\u001b[0m\n",
      "\u001b[33mJob counts:\n",
      "\tcount\tjobs\n",
      "\t1\tall\n",
      "\t8\tconvert_scripts_to_nb_and_run_using_jupytext\n",
      "\t1\tmake_archive\n",
      "\t1\tread_table_and_create_py\n",
      "\t11\u001b[0m\n",
      "\u001b[32m\u001b[0m\n",
      "\u001b[32m[Fri Jan 22 20:27:08 2021]\u001b[0m\n",
      "\u001b[32mrule read_table_and_create_py:\n",
      "    input: int_matrix.txt\n",
      "    output: interactions_report_for_7c7a_F_G_6ah3_F_G.py, interactions_report_for_7c7a_F_B_6ah3_F_B.py, interactions_report_for_7c7a_G_B_6ah3_G_B.py, interactions_report_for_7c7a_E_B_6ah3_E_B.py, interactions_report_for_7c7a_I_B_6ah3_I_B.py, interactions_report_for_7c7a_F_I_6ah3_F_I.py, interactions_report_for_7c7a_G_E_6ah3_G_E.py, interactions_report_for_7c7a_I_E_6ah3_I_E.py\n",
      "    jobid: 3\u001b[0m\n",
      "\u001b[32m\u001b[0m\n",
      "\u001b[33mJob counts:\n",
      "\tcount\tjobs\n",
      "\t1\tread_table_and_create_py\n",
      "\t1\u001b[0m\n",
      "\u001b[32m[Fri Jan 22 20:27:09 2021]\u001b[0m\n",
      "\u001b[32mFinished job 3.\u001b[0m\n",
      "\u001b[32m1 of 11 steps (9%) done\u001b[0m\n",
      "\u001b[32m\u001b[0m\n",
      "\u001b[32m[Fri Jan 22 20:27:09 2021]\u001b[0m\n",
      "\u001b[32mrule convert_scripts_to_nb_and_run_using_jupytext:\n",
      "    input: interactions_report_for_7c7a_I_E_6ah3_I_E.py\n",
      "    output: interactions_report_for_7c7a_I_E_6ah3_I_E.ipynb\n",
      "    jobid: 10\n",
      "    wildcards: details=7c7a_I_E_6ah3_I_E\u001b[0m\n",
      "\u001b[32m\u001b[0m\n",
      "[jupytext] Reading interactions_report_for_7c7a_I_E_6ah3_I_E.py in format py\n",
      "[jupytext] Executing notebook with kernel python3\n",
      "[jupytext] Writing interactions_report_for_7c7a_I_E_6ah3_I_E.ipynb\n",
      "\u001b[32m[Fri Jan 22 20:27:16 2021]\u001b[0m\n",
      "\u001b[32mFinished job 10.\u001b[0m\n",
      "\u001b[32m2 of 11 steps (18%) done\u001b[0m\n",
      "\u001b[32m\u001b[0m\n",
      "\u001b[32m[Fri Jan 22 20:27:16 2021]\u001b[0m\n",
      "\u001b[32mrule convert_scripts_to_nb_and_run_using_jupytext:\n",
      "    input: interactions_report_for_7c7a_G_B_6ah3_G_B.py\n",
      "    output: interactions_report_for_7c7a_G_B_6ah3_G_B.ipynb\n",
      "    jobid: 5\n",
      "    wildcards: details=7c7a_G_B_6ah3_G_B\u001b[0m\n",
      "\u001b[32m\u001b[0m\n",
      "[jupytext] Reading interactions_report_for_7c7a_G_B_6ah3_G_B.py in format py\n",
      "[jupytext] Executing notebook with kernel python3\n",
      "[jupytext] Writing interactions_report_for_7c7a_G_B_6ah3_G_B.ipynb\n",
      "\u001b[32m[Fri Jan 22 20:27:21 2021]\u001b[0m\n",
      "\u001b[32mFinished job 5.\u001b[0m\n",
      "\u001b[32m3 of 11 steps (27%) done\u001b[0m\n",
      "\u001b[32m\u001b[0m\n",
      "\u001b[32m[Fri Jan 22 20:27:21 2021]\u001b[0m\n",
      "\u001b[32mrule convert_scripts_to_nb_and_run_using_jupytext:\n",
      "    input: interactions_report_for_7c7a_I_B_6ah3_I_B.py\n",
      "    output: interactions_report_for_7c7a_I_B_6ah3_I_B.ipynb\n",
      "    jobid: 7\n",
      "    wildcards: details=7c7a_I_B_6ah3_I_B\u001b[0m\n",
      "\u001b[32m\u001b[0m\n",
      "[jupytext] Reading interactions_report_for_7c7a_I_B_6ah3_I_B.py in format py\n",
      "[jupytext] Executing notebook with kernel python3\n",
      "[jupytext] Writing interactions_report_for_7c7a_I_B_6ah3_I_B.ipynb\n",
      "\u001b[32m[Fri Jan 22 20:27:26 2021]\u001b[0m\n",
      "\u001b[32mFinished job 7.\u001b[0m\n",
      "\u001b[32m4 of 11 steps (36%) done\u001b[0m\n",
      "\u001b[32m\u001b[0m\n",
      "\u001b[32m[Fri Jan 22 20:27:26 2021]\u001b[0m\n",
      "\u001b[32mrule convert_scripts_to_nb_and_run_using_jupytext:\n",
      "    input: interactions_report_for_7c7a_G_E_6ah3_G_E.py\n",
      "    output: interactions_report_for_7c7a_G_E_6ah3_G_E.ipynb\n",
      "    jobid: 9\n",
      "    wildcards: details=7c7a_G_E_6ah3_G_E\u001b[0m\n",
      "\u001b[32m\u001b[0m\n",
      "[jupytext] Reading interactions_report_for_7c7a_G_E_6ah3_G_E.py in format py\n",
      "[jupytext] Executing notebook with kernel python3\n",
      "[jupytext] Writing interactions_report_for_7c7a_G_E_6ah3_G_E.ipynb\n",
      "\u001b[32m[Fri Jan 22 20:27:32 2021]\u001b[0m\n",
      "\u001b[32mFinished job 9.\u001b[0m\n",
      "\u001b[32m5 of 11 steps (45%) done\u001b[0m\n",
      "\u001b[32m\u001b[0m\n",
      "\u001b[32m[Fri Jan 22 20:27:32 2021]\u001b[0m\n",
      "\u001b[32mrule convert_scripts_to_nb_and_run_using_jupytext:\n",
      "    input: interactions_report_for_7c7a_F_G_6ah3_F_G.py\n",
      "    output: interactions_report_for_7c7a_F_G_6ah3_F_G.ipynb\n",
      "    jobid: 2\n",
      "    wildcards: details=7c7a_F_G_6ah3_F_G\u001b[0m\n",
      "\u001b[32m\u001b[0m\n",
      "[jupytext] Reading interactions_report_for_7c7a_F_G_6ah3_F_G.py in format py\n",
      "[jupytext] Executing notebook with kernel python3\n",
      "[jupytext] Writing interactions_report_for_7c7a_F_G_6ah3_F_G.ipynb\n",
      "\u001b[32m[Fri Jan 22 20:27:36 2021]\u001b[0m\n",
      "\u001b[32mFinished job 2.\u001b[0m\n",
      "\u001b[32m6 of 11 steps (55%) done\u001b[0m\n",
      "\u001b[32m\u001b[0m\n",
      "\u001b[32m[Fri Jan 22 20:27:36 2021]\u001b[0m\n",
      "\u001b[32mrule convert_scripts_to_nb_and_run_using_jupytext:\n",
      "    input: interactions_report_for_7c7a_F_B_6ah3_F_B.py\n",
      "    output: interactions_report_for_7c7a_F_B_6ah3_F_B.ipynb\n",
      "    jobid: 4\n",
      "    wildcards: details=7c7a_F_B_6ah3_F_B\u001b[0m\n",
      "\u001b[32m\u001b[0m\n",
      "[jupytext] Reading interactions_report_for_7c7a_F_B_6ah3_F_B.py in format py\n",
      "[jupytext] Executing notebook with kernel python3\n",
      "[jupytext] Writing interactions_report_for_7c7a_F_B_6ah3_F_B.ipynb\n",
      "\u001b[32m[Fri Jan 22 20:27:42 2021]\u001b[0m\n",
      "\u001b[32mFinished job 4.\u001b[0m\n",
      "\u001b[32m7 of 11 steps (64%) done\u001b[0m\n",
      "\u001b[32m\u001b[0m\n",
      "\u001b[32m[Fri Jan 22 20:27:42 2021]\u001b[0m\n",
      "\u001b[32mrule convert_scripts_to_nb_and_run_using_jupytext:\n",
      "    input: interactions_report_for_7c7a_E_B_6ah3_E_B.py\n",
      "    output: interactions_report_for_7c7a_E_B_6ah3_E_B.ipynb\n",
      "    jobid: 6\n",
      "    wildcards: details=7c7a_E_B_6ah3_E_B\u001b[0m\n",
      "\u001b[32m\u001b[0m\n",
      "[jupytext] Reading interactions_report_for_7c7a_E_B_6ah3_E_B.py in format py\n",
      "[jupytext] Executing notebook with kernel python3\n",
      "[jupytext] Writing interactions_report_for_7c7a_E_B_6ah3_E_B.ipynb\n",
      "\u001b[32m[Fri Jan 22 20:27:47 2021]\u001b[0m\n",
      "\u001b[32mFinished job 6.\u001b[0m\n",
      "\u001b[32m8 of 11 steps (73%) done\u001b[0m\n",
      "\u001b[32m\u001b[0m\n",
      "\u001b[32m[Fri Jan 22 20:27:47 2021]\u001b[0m\n",
      "\u001b[32mrule convert_scripts_to_nb_and_run_using_jupytext:\n",
      "    input: interactions_report_for_7c7a_F_I_6ah3_F_I.py\n",
      "    output: interactions_report_for_7c7a_F_I_6ah3_F_I.ipynb\n",
      "    jobid: 8\n",
      "    wildcards: details=7c7a_F_I_6ah3_F_I\u001b[0m\n",
      "\u001b[32m\u001b[0m\n",
      "[jupytext] Reading interactions_report_for_7c7a_F_I_6ah3_F_I.py in format py\n",
      "[jupytext] Executing notebook with kernel python3\n",
      "[jupytext] Writing interactions_report_for_7c7a_F_I_6ah3_F_I.ipynb\n",
      "\u001b[32m[Fri Jan 22 20:27:52 2021]\u001b[0m\n",
      "\u001b[32mFinished job 8.\u001b[0m\n",
      "\u001b[32m9 of 11 steps (82%) done\u001b[0m\n",
      "\u001b[32m\u001b[0m\n",
      "\u001b[32m[Fri Jan 22 20:27:52 2021]\u001b[0m\n",
      "\u001b[32mrule make_archive:\n",
      "    input: interactions_report_for_7c7a_F_G_6ah3_F_G.ipynb, interactions_report_for_7c7a_F_B_6ah3_F_B.ipynb, interactions_report_for_7c7a_G_B_6ah3_G_B.ipynb, interactions_report_for_7c7a_E_B_6ah3_E_B.ipynb, interactions_report_for_7c7a_I_B_6ah3_I_B.ipynb, interactions_report_for_7c7a_F_I_6ah3_F_I.ipynb, interactions_report_for_7c7a_G_E_6ah3_G_E.ipynb, interactions_report_for_7c7a_I_E_6ah3_I_E.ipynb\n",
      "    output: interactions_report_nbsJan2220212027.tar.gz\n",
      "    jobid: 1\u001b[0m\n",
      "\u001b[32m\u001b[0m\n",
      "Be sure to download interactions_report_nbsJan2220212027.tar.gz.\n",
      "\u001b[32m[Fri Jan 22 20:27:52 2021]\u001b[0m\n",
      "\u001b[32mFinished job 1.\u001b[0m\n",
      "\u001b[32m10 of 11 steps (91%) done\u001b[0m\n",
      "\u001b[32m\u001b[0m\n",
      "\u001b[32m[Fri Jan 22 20:27:52 2021]\u001b[0m\n",
      "\u001b[32mlocalrule all:\n",
      "    input: interactions_report_nbsJan2220212027.tar.gz\n",
      "    jobid: 0\u001b[0m\n",
      "\u001b[32m\u001b[0m\n",
      "\u001b[32m[Fri Jan 22 20:27:52 2021]\u001b[0m\n",
      "\u001b[32mFinished job 0.\u001b[0m\n",
      "\u001b[32m11 of 11 steps (100%) done\u001b[0m\n",
      "\u001b[33mComplete log: /home/jovyan/notebooks/GSD/.snakemake/log/2021-01-22T202708.031865.snakemake.log\u001b[0m\n"
     ]
    }
   ],
   "source": [
    "!snakemake --cores 1"
   ]
  },
  {
   "cell_type": "markdown",
   "metadata": {},
   "source": [
    "For those knowlegeable with snakemake, I will say that I set the number of cores as one because I was finding with eight that occasionally a race condition would ensue where some of the auxillary scripts by notebooks would overwrite each other as they was being accessed by another notebook causing failures. Using one core avoids that hazard. I will add though that in most cases if you use multiple cores, you can easily get the additional files and a new archive made by running snakemake with your chosen number of cores again.\n",
    "\n",
    "I never saw a race hazard with my clean rule, and so if you want to quickly start over you can run `!snakemake --cores 8 clean`."
   ]
  },
  {
   "cell_type": "markdown",
   "metadata": {},
   "source": [
    "**Step #3:** Verify the Jupyter notebooks with the reports were generated.  \n",
    "You can go to the dashboard and see the ouput of running snakemake. To do that click on the Jupyter logo in the upper left top of this notebook and on that page you'll look in  the notebooks directory and you should see files that begin with `interactions_report_` and end with `.ipynb`. You can examine some of them to insure all is as expected.\n",
    "\n",
    "If things seem to be working and you haven't run your data yet, run `!snakemake --cores 8 clean` in a cell to reset things, and then edit & save `int_matrix.txt` to have your information, and then run the `!snakemake --cores 1` step above, again."
   ]
  },
  {
   "cell_type": "markdown",
   "metadata": {},
   "source": [
    "**Step #4:** If you don't want to fix the reports by adding the protein names (see below), download the archive..  \n",
    "\n",
    "\n",
    "-----\n",
    "\n",
    "Please continue on with the notebook `GSD Adding protein names to protein-protein interactions reports for ys RNase MRP v RNase P.ipynb` to swap the protein names into the reports for easier reading.\n",
    "\n",
    "-----"
   ]
  },
  {
   "cell_type": "markdown",
   "metadata": {},
   "source": [
    "-----\n",
    "\n",
    "Enjoy."
   ]
  }
 ],
 "metadata": {
  "kernelspec": {
   "display_name": "Python 3",
   "language": "python",
   "name": "python3"
  },
  "language_info": {
   "codemirror_mode": {
    "name": "ipython",
    "version": 3
   },
   "file_extension": ".py",
   "mimetype": "text/x-python",
   "name": "python",
   "nbconvert_exporter": "python",
   "pygments_lexer": "ipython3",
   "version": "3.7.8"
  }
 },
 "nbformat": 4,
 "nbformat_minor": 4
}
