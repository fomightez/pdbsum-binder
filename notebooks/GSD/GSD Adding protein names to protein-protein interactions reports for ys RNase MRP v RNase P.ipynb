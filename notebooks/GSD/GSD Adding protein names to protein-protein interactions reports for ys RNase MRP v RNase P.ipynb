{
 "cells": [
  {
   "cell_type": "markdown",
   "metadata": {},
   "source": [
    "## GSD Adding protein names to protein-protein interactions reports for ys RNase MRP vs. RNase P"
   ]
  },
  {
   "cell_type": "markdown",
   "metadata": {},
   "source": [
    "This notebook builds on the previous notebook, [GSD Highlight changes in the protein-protein interactions of ys RNase MRP v RNase P via PDBsum data](????) and you'll have to have just run that Jupyter notebook in this session for this notebook to have something to work on and and add the protein names to the reports. \n",
    "\n",
    "\n",
    "----"
   ]
  },
  {
   "cell_type": "markdown",
   "metadata": {},
   "source": [
    "To define the replacements. In the different complexes of RNase MRP and RNase P, one paralog set of proteins share the same chain designations in all the related structures thus far. So a simple swap isn't going to work for that one, and so it is commented out for `Chain K` because the chain with the designation of `K` is Snm1p or Rpr2p depending on if in the complex of RNase MRP or RNase P.\n",
    "(Fortunuately I mostly had this dictionary worked out in `developing_make_table_of_missing_residues_for_related_PDB_structures.ipynb` as `names_per_chain_designation_per_id` and could easily adapt that.\n",
    "\n",
    "```python\n",
    "names_per_chain_designation_per_id = {\n",
    "    \"6agb\": {\"A\":\"RPR1 RNA\",\"B\":\"Pop1p\",\"C\":\"Pop3p\",\"D\":\"Pop4p\",\"E\":\"Pop5p\",\"F\":\"Pop6p\",\"G\":\"Pop7p\",\"H\":\"Pop8p\",\"I\":\"Rpp1pa\",\"J\":\"Rpp1pb\",\"K\":\"Rrp2p\"},\n",
    "    \"6ah3\": {\"A\":\"RPR1 RNA\",\"B\":\"Pop1p\",\"C\":\"Pop3p\",\"D\":\"Pop4p\",\"E\":\"Pop5p\",\"F\":\"Pop6p\",\"G\":\"Pop7p\",\"H\":\"Pop8p\",\"I\":\"Rpp1pa\",\"J\":\"Rpp1pb\",\"K\":\"Rrp2p\",\"T\":\"pre-tRNA(Phe)\"},\n",
    "    \"7c79\": {\"A\":\"NME1 RNA\",\"B\":\"Pop1p\",\"C\":\"Pop3p\",\"D\":\"Pop4p\",\"E\":\"Pop5p\",\"F\":\"Pop6p\",\"G\":\"Pop7p\",\"H\":\"Pop8p\",\"I\":\"Rpp1pa\",\"J\":\"Rpp1pb\",\"K\":\"Snm1p\",\"L\":\"Rmp1p\"},\n",
    "    \"7c7a\": {\"A\":\"NME1 RNA\",\"B\":\"Pop1p\",\"C\":\"Pop3p\",\"D\":\"Pop4p\",\"E\":\"Pop5p\",\"F\":\"Pop6p\",\"G\":\"Pop7p\",\"H\":\"Pop8p\",\"I\":\"Rpp1pa\",\"J\":\"Rpp1pb\",\"K\":\"Snm1p\",\"L\":\"Rmp1p\",\"R\":\"pre-rRNAa3\"},\n",
    "    \"6w6v\": {\"A\":\"NME1 RNA\",\"B\":\"Pop1p\",\"C\":\"Pop3p\",\"D\":\"Pop4p\",\"E\":\"Pop5p\",\"F\":\"Pop6p\",\"G\":\"Pop7p\",\"H\":\"Pop8p\",\"I\":\"Rpp1pa\",\"J\":\"Rpp1pb\",\"K\":\"Snm1p\",\"L\":\"Rmp1p\"},\n",
    "}\n",
    "```\n",
    ")"
   ]
  },
  {
   "cell_type": "code",
   "execution_count": 3,
   "metadata": {},
   "outputs": [],
   "source": [
    "chain2name_pairs = {\n",
    "    \"Chain B\":\"Pop1p\",\n",
    "    \"Chain C\":\"Pop3p\",\n",
    "    \"Chain D\":\"Pop4p\",\n",
    "    \"Chain E\":\"Pop5p\",\n",
    "    \"Chain F\":\"Pop6p\",\n",
    "    \"Chain G\":\"Pop7p\",\n",
    "    \"Chain H\":\"Pop8p\",\n",
    "    \"Chain I\":\"Rpp1pa\",\n",
    "    \"Chain J\":\"Rpp1pb\",\n",
    "    #\"Chain K\":\"Rrp2p\",\n",
    "    #\"Chain K\":\"Snm1p\",\n",
    "    \"Chain L\":\"Rmp1p\"\n",
    "}"
   ]
  },
  {
   "cell_type": "markdown",
   "metadata": {},
   "source": [
    "Then run the next cell to go through every notebook and swap the text on the left side of the colon to be the text on the right side."
   ]
  },
  {
   "cell_type": "code",
   "execution_count": 4,
   "metadata": {},
   "outputs": [
    {
     "name": "stderr",
     "output_type": "stream",
     "text": [
      "Chain designations swapped for names in interactions_report_for_7c7a_I_E_6ah3_I_E.ipynb.\n",
      "Chain designations swapped for names in interactions_report_for_7c7a_F_G_6ah3_F_G.ipynb.\n",
      "Chain designations swapped for names in interactions_report_for_7c7a_G_B_6ah3_G_B.ipynb.\n",
      "Chain designations swapped for names in interactions_report_for_7c7a_F_B_6ah3_F_B.ipynb.\n",
      "Chain designations swapped for names in interactions_report_for_7c7a_I_B_6ah3_I_B.ipynb.\n",
      "Chain designations swapped for names in interactions_report_for_7c7a_G_E_6ah3_G_E.ipynb.\n"
     ]
    }
   ],
   "source": [
    "# Make a list of the report-containing notebooks and then make the text swaps\n",
    "prefix_for_report_nbs = \"interactions_report_for_\"\n",
    "import os\n",
    "import sys\n",
    "import fnmatch\n",
    "import re\n",
    "interactions_report_nb_pattern = f\"{prefix_for_report_nbs}*.ipynb\"\n",
    "interactions_report_nbs = []\n",
    "for file in os.listdir('.'):\n",
    "    if fnmatch.fnmatch(file, interactions_report_nb_pattern):\n",
    "        interactions_report_nbs.append(file)\n",
    "def make_swaps(file_name,key_value_pairs):\n",
    "    '''\n",
    "    Takes a file name and edits every occurence of each key in all of them,\n",
    "    replacing that text with the corresponding value.\n",
    "    Saves the fixed file. Nothing is returned from this function.\n",
    "    '''\n",
    "    output_file_name = \"temp.txt\"\n",
    "    with open(file_name, 'r') as thefile:\n",
    "        nb_text=thefile.read()\n",
    "    for k,v in key_value_pairs.items():\n",
    "        #nb_text=nb_text.replace(k.lower(),v) # if wasn't case insensitive for key\n",
    "        # case-insensitive string replacement from https://stackoverflow.com/a/919067/8508004\n",
    "        insensitive = re.compile(re.escape(k), re.IGNORECASE)\n",
    "        nb_text = insensitive.sub(v, nb_text)\n",
    "    with open(output_file_name, 'w') as output_file:\n",
    "        output_file.write(nb_text)\n",
    "    # replace the original file with edited\n",
    "    !mv {output_file_name} {file_name}\n",
    "    # Feedback\n",
    "    sys.stderr.write(\"Chain designations swapped for names in {}.\\n\".format(file_name))\n",
    "\n",
    "for nbn in interactions_report_nbs:\n",
    "    make_swaps(nbn,chain2name_pairs)"
   ]
  },
  {
   "cell_type": "markdown",
   "metadata": {},
   "source": [
    "Names should now be in the reports."
   ]
  },
  {
   "cell_type": "markdown",
   "metadata": {},
   "source": [
    "Make an archive with the reports with the names added for ease in downloading.\n",
    "First deleting the old one without the names."
   ]
  },
  {
   "cell_type": "code",
   "execution_count": 7,
   "metadata": {},
   "outputs": [
    {
     "name": "stderr",
     "output_type": "stream",
     "text": [
      "***************************DONE***********************************\n",
      "'interactions_report_nbsJan2220211706.tar.gz' generated. Download it.\n",
      "***************************DONE***********************************"
     ]
    }
   ],
   "source": [
    "!rm interactions_report_nb*.tar.gz\n",
    "prefix_for_report_nbs = \"interactions_report_for_\"\n",
    "import os\n",
    "import sys\n",
    "import fnmatch\n",
    "interactions_report_nb_pattern = f\"{prefix_for_report_nbs}*.ipynb\"\n",
    "interactions_report_nbs = []\n",
    "for file in os.listdir('.'):\n",
    "    if fnmatch.fnmatch(file, interactions_report_nb_pattern):\n",
    "        interactions_report_nbs.append(file)\n",
    "import datetime\n",
    "now = datetime.datetime.now()\n",
    "archive_file_name = f\"interactions_report_nbs{now.strftime('%b%d%Y%H%M')}.tar.gz\" \n",
    "!tar czf {archive_file_name} {\" \".join(interactions_report_nbs)}\n",
    "sys.stderr.write(\"***************************DONE***********************************\\n\"\n",
    "    \"'{}' generated. Download it.\\n\"\n",
    "    \"***************************DONE***********************************\".format(archive_file_name))"
   ]
  },
  {
   "cell_type": "markdown",
   "metadata": {},
   "source": [
    "-----\n",
    "\n",
    "Enjoy."
   ]
  },
  {
   "cell_type": "code",
   "execution_count": null,
   "metadata": {},
   "outputs": [
    {
     "name": "stdout",
     "output_type": "stream",
     "text": [
      ".\n"
     ]
    }
   ],
   "source": [
    "import time\n",
    "\n",
    "def executeSomething():\n",
    "    #code here\n",
    "    print ('.')\n",
    "    time.sleep(480) #60 seconds times 8 minutes\n",
    "\n",
    "while True:\n",
    "    executeSomething()"
   ]
  }
 ],
 "metadata": {
  "kernelspec": {
   "display_name": "Python 3",
   "language": "python",
   "name": "python3"
  },
  "language_info": {
   "codemirror_mode": {
    "name": "ipython",
    "version": 3
   },
   "file_extension": ".py",
   "mimetype": "text/x-python",
   "name": "python",
   "nbconvert_exporter": "python",
   "pygments_lexer": "ipython3",
   "version": "3.7.8"
  }
 },
 "nbformat": 4,
 "nbformat_minor": 4
}
