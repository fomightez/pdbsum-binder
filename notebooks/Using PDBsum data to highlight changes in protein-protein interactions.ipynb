{
 "cells": [
  {
   "cell_type": "markdown",
   "metadata": {},
   "source": [
    "# Using PDBsum data to highlight changes in protein-protein interactions"
   ]
  },
  {
   "cell_type": "markdown",
   "metadata": {},
   "source": [
    "This notebook builds on some of the basics covered in [Working with PDBsum in Jupyter Basics](Working%20with%20PDBsum%20in%20Jupyter%20Basics.ipynb) in order to compare protein-protein interactions of the same pair of proteins in two different structures.\n",
    "\n",
    "----"
   ]
  },
  {
   "cell_type": "markdown",
   "metadata": {},
   "source": [
    "### Retrieving Protein-Protein interface reports/ the list of interactions\n",
    "\n",
    "This time we will need two different protein-protein interface reports, a.k.a, the list of interactions. We could get them directly from pages such as this [here](http://www.ebi.ac.uk/thornton-srv/databases/cgi-bin/pdbsum/GetPage.pl?pdbcode=6ah3&template=interfaces.html&o=RESIDUE&l=3) by collecting what is found when clicking on the link to the 'List of interactions' in the bottom right of the page and then copying the contents of each into this session. However, in [the previous notebook in this series](Working%20with%20PDBsum%20in%20Jupyter%20Basics.ipynb), we covered how to use curl to fetch the file into this session by provding a few details in the URL. We'll modify that to allow us to provide information needed and get two sets of data following a very similar way.\n",
    "\n",
    "Here, the example data has the chains named with the same chain designations in the different PDB files; however, this doesn't have to be the case and the code is written to allow for that.  \n",
    "**And the code is written for allowing changing of the settings to easily adapt it to examining the interaction of protein-protein pairs in your favorite related structures.**\n",
    "\n",
    "Source of the data to use:</p>\n",
    "From [Xue et al 2019 Structural basis of nucleosome recognition and modification by MLL methyltransferases](https://pubmed.ncbi.nlm.nih.gov/31485071/):\n",
    ">\"Here we report cryo-electron microscopy structures of human MLL1 and MLL3 catalytic modules associated with nucleosome core particles that contain H2BK120ub1 or unmodified H2BK120. These structures demonstrate that the MLL1 and MLL3 complexes both make extensive contacts with the histone-fold and DNA regions of the nucleosome; this allows ease of access to the histone H3 tail, which is essential for the efficient methylation of H3K4. The H2B-conjugated ubiquitin binds directly to RBBP5, orienting the association between MLL1 or MLL3 and the nucleosome. The MLL1 and MLL3 complexes display different structural organizations at the interface between the WDR5, RBBP5 and MLL1 (or the corresponding MLL3) subunits, which accounts for the opposite roles of WDR5 in regulating the activity of the two enzymes. These findings transform our understanding of the structural basis for the regulation of MLL activity at the nucleosome level, and highlight the pivotal role of nucleosome regulation in histone-tail modification.\"\n",
    "\n",
    "PDB codes for entries from that publication for possible comparison structures:\n",
    "6KIU, 6KIW, 6KIV, 6KIX,  6KIZ  \n",
    "(There is also 6PWV, 6PWX, & 6PWW that are very related to those structures and were from a different group.)\n",
    "\n",
    "----   \n",
    "    "
   ]
  },
  {
   "cell_type": "markdown",
   "metadata": {},
   "source": [
    "Let's define the structures to use."
   ]
  },
  {
   "cell_type": "code",
   "execution_count": 1,
   "metadata": {},
   "outputs": [],
   "source": [
    "structure1 = \"6kiz\"\n",
    "structure2 = \"6kix\""
   ]
  },
  {
   "cell_type": "markdown",
   "metadata": {},
   "source": [
    "Let's define the chains to use"
   ]
  },
  {
   "cell_type": "code",
   "execution_count": 2,
   "metadata": {},
   "outputs": [],
   "source": [
    "structure1_chain1 = \"R\"\n",
    "structure1_chain2 = \"N\" # or \"K\" yields different results; don't know which is better illustrating yet\n",
    "structure2_chain1 = structure1_chain1\n",
    "structure2_chain2 = structure1_chain2"
   ]
  },
  {
   "cell_type": "markdown",
   "metadata": {},
   "source": [
    "(As noted earlier, different structures don't necessarily have the same chains designated with the same alphanumeric. In the example they are the same; however, if we imagine in the second structure the chains were `C` and `E` that we were interested in the following code would have been used to assign the chains to use in the cell above.\n",
    "\n",
    "```python\n",
    "structure1_chain1 = \"R\"\n",
    "structure1_chain2 = \"N\" # or \"K\" yields different results; don't know which is better illustrating yet\n",
    "structure2_chain1 = \"C\"\n",
    "structure2_chain2 = \"E\"\n",
    "```\n",
    ")\n",
    "\n",
    "Next, let's define what we want the data files saved as:"
   ]
  },
  {
   "cell_type": "code",
   "execution_count": 3,
   "metadata": {},
   "outputs": [],
   "source": [
    "structure1_data_name = \"datai_6kiz_R_N.txt\"\n",
    "structure2_data_name = \"datai_6kix_R_N.txt\""
   ]
  },
  {
   "cell_type": "markdown",
   "metadata": {},
   "source": [
    "Code based on first notebook to get the interaction data files for each protein pair for each of the two structures:"
   ]
  },
  {
   "cell_type": "code",
   "execution_count": 4,
   "metadata": {},
   "outputs": [
    {
     "name": "stdout",
     "output_type": "stream",
     "text": [
      "  % Total    % Received % Xferd  Average Speed   Time    Time     Time  Current\n",
      "                                 Dload  Upload   Total   Spent    Left  Speed\n",
      "100  7528    0  7502  100    26   9307     32 --:--:-- --:--:-- --:--:--  9328\n",
      "  % Total    % Received % Xferd  Average Speed   Time    Time     Time  Current\n",
      "                                 Dload  Upload   Total   Spent    Left  Speed\n",
      "100  6068    0  6042  100    26   3345     14  0:00:01  0:00:01 --:--:--  3358\n"
     ]
    }
   ],
   "source": [
    "def get_protein_inter_data_files(pdb_code,chain1,chain2,output_file_name):\n",
    "    '''\n",
    "    Takes a PDB entry accession identifier alphanumeic (PDB code), a chain \n",
    "    identifier for chain 1 and chain identifier for chain 2, along with a\n",
    "    name to give the file produced when the data is retrieved and saved.\n",
    "\n",
    "    The proteins have to interact in the structure for meaningful data to be returned.\n",
    "    '''\n",
    "    source_url = \"http://www.ebi.ac.uk/thornton-srv/databases/cgi-bin/pdbsum/GetIface.pl\"\n",
    "    !curl -L -o {output_file_name} --data \"pdb={pdb_code.lower()}&chain1={chain1}&chain2={chain2}\" {source_url}\n",
    "# Get data file for structure #1    \n",
    "get_protein_inter_data_files(structure1,structure1_chain1,structure1_chain2,structure1_data_name)\n",
    "# Get data file for structure #2   \n",
    "get_protein_inter_data_files(structure2,structure2_chain1,structure2_chain2,structure2_data_name)"
   ]
  },
  {
   "cell_type": "markdown",
   "metadata": {},
   "source": [
    "We can lst the files prsent to varify the data files were obtained."
   ]
  },
  {
   "cell_type": "code",
   "execution_count": 5,
   "metadata": {},
   "outputs": [
    {
     "name": "stdout",
     "output_type": "stream",
     "text": [
      " data_6kix.txt\n",
      " data_6kiz.txt\n",
      "'Using PDBsum data to highlight changes in protein-protein interactions.ipynb'\n",
      "'Working with PDBsum in Jupyter Basics.ipynb'\n"
     ]
    }
   ],
   "source": [
    "ls"
   ]
  },
  {
   "cell_type": "markdown",
   "metadata": {},
   "source": [
    "Get the scripts that will examine the two data files for similarity and difference."
   ]
  },
  {
   "cell_type": "code",
   "execution_count": 6,
   "metadata": {},
   "outputs": [
    {
     "name": "stdout",
     "output_type": "stream",
     "text": [
      "  % Total    % Received % Xferd  Average Speed   Time    Time     Time  Current\n",
      "                                 Dload  Upload   Total   Spent    Left  Speed\n",
      "100 21812  100 21812    0     0  43192      0 --:--:-- --:--:-- --:--:-- 43106\n",
      "  % Total    % Received % Xferd  Average Speed   Time    Time     Time  Current\n",
      "                                 Dload  Upload   Total   Spent    Left  Speed\n",
      "100 15199  100 15199    0     0  65512      0 --:--:-- --:--:-- --:--:-- 65512\n"
     ]
    }
   ],
   "source": [
    "# Get a file if not yet retrieved / check if file exists\n",
    "import os\n",
    "file_needed = \"similarities_in_proteinprotein_interactions.py\"\n",
    "if not os.path.isfile(file_needed):\n",
    "    !curl -OL https://raw.githubusercontent.com/fomightez/structurework/master/pdbsum-utilities/{file_needed}\n",
    "file_needed = \"differences_in_proteinprotein_interactions.py\"\n",
    "if not os.path.isfile(file_needed):\n",
    "    !curl -OL https://raw.githubusercontent.com/fomightez/structurework/master/pdbsum-utilities/{file_needed}"
   ]
  },
  {
   "cell_type": "markdown",
   "metadata": {},
   "source": [
    "Now because we already defined the names of the data files `structure1_data_name` and `structure2_data_name`, the script knows to use those to analyze to compare residues involved in interactions of the same pair of proteins **in both structures**."
   ]
  },
  {
   "cell_type": "code",
   "execution_count": 7,
   "metadata": {},
   "outputs": [
    {
     "name": "stderr",
     "output_type": "stream",
     "text": [
      "\n",
      "Obtaining script containing a function to use to parse the data files from PDBsum ...\n",
      "\n",
      "Parsing data files from PDBsum ...\n",
      "\n",
      "Collecting similarities for chain vs chain interactions in the two structures ...\n",
      "\n",
      "Determination of SIMILARITIES Completed.\n",
      "\n",
      "************************RESULTS************************\n",
      "The following interacting pairs of residues occur in both structures:\n",
      "(289:R, 374:N)\n",
      "(250:R, 372:N)\n",
      "(225:R, 379:N)\n",
      "(225:R, 377:N)\n",
      "(224:R, 378:N)\n",
      "(181:R, 380:N)\n",
      "(228:R, 375:N)\n",
      "(205:R, 331:N)\n",
      "(208:R, 331:N)\n",
      "(204:R, 327:N)\n",
      "(196:R, 332:N)\n",
      "(208:R, 332:N)\n",
      "(223:R, 377:N)\n",
      "\n",
      "The following residues of chain R contribute to interactions with\n",
      "chain N in both structures 6kiz & 6kix, yet have differing sets of partners:\n",
      "225\n",
      "228\n",
      "208\n",
      "205\n",
      "250\n",
      "224\n",
      "\n",
      "The following residues of chain N contribute to interactions with\n",
      "chain R in both structures 6kiz & 6kix, yet have differing sets of partners:\n",
      "374\n",
      "378\n",
      "54\n",
      "376\n",
      "375\n",
      "379\n",
      "377\n",
      "331\n",
      "380\n",
      "332\n",
      "55\n",
      "The differing sets of partners are detailed by running the 'difference' script."
     ]
    }
   ],
   "source": [
    "%run -i similarities_in_proteinprotein_interactions.py"
   ]
  },
  {
   "cell_type": "markdown",
   "metadata": {},
   "source": [
    "This script reveals two types of data under this 'similar' heading. One is residue-residue interactions that are shared between the two chains in both structures. These shared interactions are listed first.\n",
    "\n",
    "Following that residues are listed, for each chain in turn, that maintain interactions of some sort with the other chain still. In order to think about the simplest situation that would manifest a residue being on this list, imagine it participates in an interaction with one residue of the other chain in one strucutre and interacts with a different residue in the other structure. Therefore residues of the same chain that shift interactions from one partner residue to another would be on this list. Therefore for that residue it is 'similar' in that it still contributes to interacting with the other chain. magine each of these only has one other residue it interacts with. Often a residue may interact with more than residue and if the same residue of a single chain has a different list of interaction partners it will also be on this list.\n",
    "\n",
    "The details on the differences at the residue level of the interactions partners will be made clear when the 'differences' script is run next.\n",
    "\n",
    "**Note the 'similarities' script highlights protein-protein interactions at the residue-level.  \n",
    "Keep in mind it doesn't distinguish by type at this time.** For example, if a hydrogen-bond interaction was disrupted between atoms of the same residue, yet the van der Waals interactions between other atoms of that residue remain, the residue-level interactions will still remain highlighted here. **Whether it is all the same type of residue-residue interactions can be explored by further examination**, following the approach outlined in the first notebook in this series to make a dataframe that lists the types, or by analyzing the interactions for those residues in raw data file if it just a few residues you care about, such as `data_6kiz.txt` as compare `data_6kix.txt` in this example case."
   ]
  },
  {
   "cell_type": "markdown",
   "metadata": {},
   "source": [
    "The details on the differences where there has been shift in what the one residue interacts with will be made clear when the 'differences' script is run next."
   ]
  },
  {
   "cell_type": "code",
   "execution_count": 8,
   "metadata": {},
   "outputs": [
    {
     "name": "stderr",
     "output_type": "stream",
     "text": [
      "\n",
      "Parsing data files from PDBsum ...\n",
      "\n",
      "Collecting differences for chain vs chain interactions in the two structures ...\n",
      "\n",
      "Determination of DIFFERENCES Completed.\n",
      "\n",
      "************************RESULTS************************\n",
      "The following are residue pairings where both members exclusively\n",
      "interact only in 6kiz :\n",
      "(210:R, 335:N)\n",
      "\n",
      "The following are residue pairings where both members exclusively\n",
      "interact only in 6kix:\n",
      "(140:R, 52:N)\n",
      "\n",
      "The following residues of chain R contribute only to interactions\n",
      "with chain N in 6kiz:\n",
      "288\n",
      "162\n",
      "227\n",
      "198\n",
      "201\n",
      "266\n",
      "206\n",
      "210\n",
      "249\n",
      "The following residues of chain R contribute only to interactions\n",
      "with chain N in 6kix:\n",
      "200\n",
      "140\n",
      "143\n",
      "207\n",
      "183\n",
      "184\n",
      "The following residues of chain N contribute only to interactions\n",
      "with chain R in 6kiz:\n",
      "373\n",
      "335\n",
      "The following residues of chain N contribute only to interaction\n",
      "with chain R in 6kix:\n",
      "371\n",
      "52\n",
      "334\n",
      "\n",
      "If you've previously run the script `similarities_in_proteinprotein_interactions.py`\n",
      "you received a report listing residues for each chain that still interact with\n",
      "the other chain in both structures yet have different sets of residue\n",
      "partners in both structures.\n",
      "Details of the shifts in partners follow.\n",
      "The following lists the differing sets of partners for residues of chain R,\n",
      "with the chain N partners in 6kiz followed by those in 6kix:\n",
      "225: {377, 378, 379, 380}, {376, 377, 379}\n",
      "228: {376, 377, 379, 375}, {375}\n",
      "208: {331, 332}, {331, 332, 334}\n",
      "205: {331, 332}, {331}\n",
      "250: {372, 373, 374}, {371, 372}\n",
      "224: {378}, {377, 378, 380}\n",
      "The following lists the differing sets of partners for residues of chain N,\n",
      "with the chain R partners in 6kiz followed by those in 6kix:\n",
      "374: {288, 289, 250}, {289}\n",
      "378: {224, 225}, {224}\n",
      "54: {201}, {200, 184, 183}\n",
      "376: {228}, {225}\n",
      "375: {249, 228}, {228}\n",
      "379: {225, 227, 228}, {225}\n",
      "377: {225, 266, 228, 223}, {224, 225, 223}\n",
      "331: {208, 205, 206}, {208, 205, 207}\n",
      "380: {225, 181}, {224, 181}\n",
      "332: {208, 196, 205, 198}, {208, 196}\n",
      "55: {162}, {143}"
     ]
    }
   ],
   "source": [
    "%run -i differences_in_proteinprotein_interactions.py"
   ]
  },
  {
   "cell_type": "markdown",
   "metadata": {},
   "source": [
    "The output of this script includes three ways in which residues in chain 1 differ in interactions with chain 2 in the two structures. \n",
    "\n",
    "- The first section lists residue pairings where both members exclusively interact only in only one structure or the other. \n",
    "- The second section lists individudal residues of both chains that contribute to the corresponding chain-chain interaction only in one of the structures.\n",
    "- Finally, the third section details the differing sets of partners for the residues that interact with the other chain in both structures and yet interact with different sets of residues in the two structures. For example, residue 376 of chain #2 (chain designated N) interacts with different resides in the two structures. In struture #1 (6kiz) it interacts with residue 228 of chain #1 and in structure #2 (6kix) it interacts with residue 225."
   ]
  },
  {
   "cell_type": "markdown",
   "metadata": {},
   "source": [
    "Hopefully, you are ready to now go up and edit the assignments at the top of this notebook and run the code again to highlight the similarities and differences in interactions of protein pairs in your favorite pairs of structures.\n",
    "\n",
    "Read on in this notebook if you want some advanced options.\n",
    "\n",
    "-----"
   ]
  },
  {
   "cell_type": "markdown",
   "metadata": {},
   "source": [
    "### Making the reports more human readable"
   ]
  },
  {
   "cell_type": "markdown",
   "metadata": {},
   "source": [
    "Note the report that is generated can be made more informative after-the-fact by running the script again and capturing all the output and then using the string `.replace()` method to change the chain designations that come from the PDBsum data to be the protein names. The idea is that the PDBsum data file doesn't have the protein names yet you can easily add them in after to make the report easier. Adding a way to do this when calling the script would add more trouble than it is probably worth since you can perform this trick.    \n",
    "An example is below in the next few cells. When you run the next one, you won't see any output; however, it will be captured."
   ]
  },
  {
   "cell_type": "code",
   "execution_count": 9,
   "metadata": {},
   "outputs": [],
   "source": [
    "%%capture out\n",
    "%run -i similarities_in_proteinprotein_interactions.py"
   ]
  },
  {
   "cell_type": "markdown",
   "metadata": {},
   "source": [
    "This next cell will substitue in the protein names in the desciption of the ineractions of residues that shift to some extent in their associations with residues of the other chain."
   ]
  },
  {
   "cell_type": "code",
   "execution_count": 10,
   "metadata": {},
   "outputs": [
    {
     "name": "stderr",
     "output_type": "stream",
     "text": [
      "\n",
      "Parsing data files from PDBsum ...\n",
      "\n",
      "Collecting similarities for chain vs chain interactions in the two structures ...\n",
      "\n",
      "Determination of SIMILARITIES Completed.\n",
      "\n",
      "************************RESULTS************************\n",
      "The following interacting pairs of residues occur in both structures:\n",
      "(289:R, 374:N)\n",
      "(250:R, 372:N)\n",
      "(225:R, 379:N)\n",
      "(225:R, 377:N)\n",
      "(224:R, 378:N)\n",
      "(181:R, 380:N)\n",
      "(228:R, 375:N)\n",
      "(205:R, 331:N)\n",
      "(208:R, 331:N)\n",
      "(204:R, 327:N)\n",
      "(196:R, 332:N)\n",
      "(208:R, 332:N)\n",
      "(223:R, 377:N)\n",
      "\n",
      "The following residues of WDR5 contribute to interactions with\n",
      "RBBP5 in both structures 6kiz & 6kix, yet have differing sets of partners:\n",
      "225\n",
      "228\n",
      "208\n",
      "205\n",
      "250\n",
      "224\n",
      "\n",
      "The following residues of RBBP5 contribute to interactions with\n",
      "WDR5 in both structures 6kiz & 6kix, yet have differing sets of partners:\n",
      "374\n",
      "378\n",
      "54\n",
      "376\n",
      "375\n",
      "379\n",
      "377\n",
      "331\n",
      "380\n",
      "332\n",
      "55\n",
      "The differing sets of partners are detailed by running the 'difference' script."
     ]
    }
   ],
   "source": [
    "sys.stderr.write(out.stderr.replace(\"chain R\",\"WDR5\").replace(\"chain N\",\"RBBP5\"))"
   ]
  },
  {
   "cell_type": "markdown",
   "metadata": {},
   "source": [
    "The did that for the report generated by the 'similarities' script. You can follow much the same process with the report from the 'differences' script."
   ]
  },
  {
   "cell_type": "markdown",
   "metadata": {},
   "source": [
    "\n",
    "----"
   ]
  }
 ],
 "metadata": {
  "kernelspec": {
   "display_name": "Python 3",
   "language": "python",
   "name": "python3"
  },
  "language_info": {
   "codemirror_mode": {
    "name": "ipython",
    "version": 3
   },
   "file_extension": ".py",
   "mimetype": "text/x-python",
   "name": "python",
   "nbconvert_exporter": "python",
   "pygments_lexer": "ipython3",
   "version": "3.7.8"
  }
 },
 "nbformat": 4,
 "nbformat_minor": 4
}
