{
 "cells": [
  {
   "cell_type": "markdown",
   "metadata": {},
   "source": [
    "## PDBsum use in conjunction with Jupyter & Python via MyBinder.org"
   ]
  },
  {
   "cell_type": "markdown",
   "metadata": {},
   "source": [
    "Choose one of the available notebooks to get started. If you are new, start at the top and work down.\n",
    "\n",
    "### Available Notebooks\n",
    "\n",
    "- [Working with PDBsum in Jupyter Basics](notebooks/Working%20with%20PDBsum%20in%20Jupyter%20Basics.ipynb)\n",
    "- [Using PDBsum data to highlight changes in protein-protein interactions](notebooks/Using%20PDBsum%20data%20to%20highlight%20changes%20in%20protein-protein%20interactions.ipynb)\n",
    "- [Using snakemake to highlight changes in multiple protein-protein interactions via PDBsum data](notebooks/Using%20snakemake%20to%20highlight%20changes%20in%20multiple%20protein-protein%20interactions%20via%20PDBsum%20data.ipynb)\n",
    "- [Making the multiple reports generated via snakemake clearer by adding protein names](notebooks/Making%20the%20multiple%20reports%20generated%20via%20snakemake%20clearer%20by%20adding%20protein%20names.ipynb)\n",
    "\n",
    "\n",
    "#### Advanced:\n",
    "\n",
    "- [Automagically making a table of all protein-protein interactions for two structures](notebooks/Automagically%20making%20a%20table%20of%20all%20protein-protein%20interactions%20for%20two%20structures.ipynb)\n",
    "\n",
    "-----"
   ]
  }
 ],
 "metadata": {
  "kernelspec": {
   "display_name": "Python 3",
   "language": "python",
   "name": "python3"
  },
  "language_info": {
   "codemirror_mode": {
    "name": "ipython",
    "version": 3
   },
   "file_extension": ".py",
   "mimetype": "text/x-python",
   "name": "python",
   "nbconvert_exporter": "python",
   "pygments_lexer": "ipython3",
   "version": "3.7.8"
  }
 },
 "nbformat": 4,
 "nbformat_minor": 4
}
