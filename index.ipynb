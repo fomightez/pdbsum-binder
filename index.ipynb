{
 "cells": [
  {
   "cell_type": "markdown",
   "metadata": {},
   "source": [
    "## Practical HH-Suite3 use in conjunction with Jupyter, Python, and Snakemake via MyBinder: Preparing\n",
    "\n",
    "The documentation for HH-suite3 is found [here](https://github.com/soedinglab/hh-suite/wiki).  \n",
    "This series of notebooks aims to expand on [the documentation for HH-suite3](https://github.com/soedinglab/hh-suite/wiki) by demonstrating providing some guidance on how you could perform some of those in combination with Jupyter, Python, and Snakemake in Jupyter via MyBinder.\n",
    "\n",
    "Select a notebook from this index below to begin. If you don't know where to start, begin at the top because those focus more on the introductory aspects, and then work downward.\n",
    "\n",
    "For those only working with a few sequences or not comfortable with the command line, keep in mind there is an automated server that can do many of these steps accessible via [the MPI Bioinformatics Toolkit](https://toolkit.tuebingen.mpg.de/):\n",
    "\n",
    "- HHpred is the more full featured automated server for protein remote homology detection and 3D structure prediction, see A Completely Reimplemented MPI Bioinformatics Toolkit with a New HHpred Server at its Core.\n",
    "Zimmermann L, Stephens A, Nam SZ, Rau D, Kübler J, Lozajic M, Gabler F, Söding J, Lupas AN, Alva V. J Mol Biol. 2018 Jul 20. S0022-2836(17)30587-9. and earlier references about it.\n",
    "\n",
    "- [The MPI Bioinformatics Toolkit](https://toolkit.tuebingen.mpg.de/) also offers a web-based interface to HHblits where you can at present query [the Uniclust30 database](https://uniclust.mmseqs.com/). This is useful because that database is large, and so any options available to avoid having to obtain it and unpack it are welcome. Integrating use of that will be covered in the first notebook listed below, which is an adaptation of the section [Example: Comparative protein structure modeling using HHblits and MODELLER](https://github.com/soedinglab/hh-suite/wiki#example-comparative-protein-structure-modeling-using-hhblits-and-modeller) found under 'Brief tutorial to HHsuite tools' in the [HH-suite3 wiki Table Ofo Contents](https://github.com/soedinglab/hh-suite/wiki#table-of-contents), and so see that notebook for more information.\n"
   ]
  },
  {
   "cell_type": "markdown",
   "metadata": {},
   "source": [
    "-----\n",
    "\n",
    "### Available Notebooks\n",
    "\n",
    "- [Practical use of HH-suite3 on the command line in Jupyter via MyBinder.org: Basics](notebooks/basics.ipynb)\n",
    "- [Using Python to examine HH-suite3 results](notebooks/hhr_to_df_demo.ipynb)\n",
    "- [Notes on making a custom database](notebooks/?????.ipynb)\n",
    "- [Collecting results of hits to a custom database quickly with Jupyter/Python](??????.ipynb)\n",
    "- [Collecting results of hits to using script to extract hits and Pandas](notebooks/?????.ipynb)\n",
    "- [Mining sequences from hits to UniRef30 database](notebooks/????.ipynb)\n",
    "\n",
    "\n",
    "-----"
   ]
  }
 ],
 "metadata": {
  "kernelspec": {
   "display_name": "Python 3",
   "language": "python",
   "name": "python3"
  },
  "language_info": {
   "codemirror_mode": {
    "name": "ipython",
    "version": 3
   },
   "file_extension": ".py",
   "mimetype": "text/x-python",
   "name": "python",
   "nbconvert_exporter": "python",
   "pygments_lexer": "ipython3",
   "version": "3.7.8"
  }
 },
 "nbformat": 4,
 "nbformat_minor": 4
}
