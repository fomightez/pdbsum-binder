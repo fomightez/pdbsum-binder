{
 "cells": [
  {
   "cell_type": "markdown",
   "metadata": {},
   "source": [
    "## PDBsum use in conjunction with Jupyter & Python via MyBinder.org"
   ]
  },
  {
   "cell_type": "markdown",
   "metadata": {},
   "source": [
    "Choose one of the available notebooks to get started. If you are new, start at the top and work down.\n",
    "\n",
    "### Available Notebooks\n",
    "\n",
    "- [Working with PDBsum in Jupyter Basics & Demonstration of PDBsum protein interface data to dataframe script](notebooks/Working%20with%20PDBsum%20in%20Jupyter%20Basics.ipynb)\n",
    "- [Using PDBsum data to highlight changes in protein-protein interactions](notebooks/Using%20PDBsum%20data%20to%20highlight%20changes%20in%20protein-protein%20interactions.ipynb)\n",
    "- [Using snakemake to highlight changes in multiple protein-protein interactions via PDBsum data](notebooks/Using%20snakemake%20to%20highlight%20changes%20in%20multiple%20protein-protein%20interactions%20via%20PDBsum%20data.ipynb)\n",
    "- [Making the multiple reports generated via snakemake clearer by adding protein names](notebooks/Making%20the%20multiple%20reports%20generated%20via%20snakemake%20clearer%20by%20adding%20protein%20names.ipynb)\n",
    "- [Interface statistics basics & comparing Interface statistics for two structures](notebooks/Interface%20statistics%20basics%20and%20comparing%20Interface%20statistics%20for%20two%20structures.ipynb)\n",
    "- [Demonstration of PDBsum ligand interface data to dataframe script](notebooks/Demonstration%20of%20PDBsum%20ligand%20interface%20data%20to%20dataframe%20script.ipynb)\n",
    "- [Demonstrating grabbing some non-derived data from the PDBsum site for PDB entries](Demonstration%20of%20PDBsum%20info%20grab%20script.ipynb)\n",
    "\n",
    "#### Advanced:\n",
    "\n",
    "- [Automagically making a table of all protein-protein interactions for two structures](notebooks/Automagically%20making%20a%20table%20of%20all%20protein-protein%20interactions%20for%20two%20structures.ipynb)\n",
    "\n",
    "#### Related\n",
    "\n",
    "- The route to getting the interaction details between two chains from PDBsum data shown in the notebooks here gets used in the pipeline for the notebook [Report if residues interacting with a specific chain have equivalent residues in an hhsuite-generated alignment](https://nbviewer.jupyter.org/github/fomightez/hhsuite3-binder/blob/main/notebooks/Report%20if%20residues%20interacting%20with%20a%20specific%20chain%20have%20equivalent%20residues%20in%20an%20hhsuite-generated%20alignment.ipynb) that can be run in launches from the [hhsuite3-binder](https://github.com/fomightez/hhsuite3-binder). There is a version built on that which uses snakemake to process several combinations of structures and chains all once and make a report for each desired pair that also relies on this path.\n",
    "\n",
    "-----"
   ]
  }
 ],
 "metadata": {
  "kernelspec": {
   "display_name": "Python 3 (ipykernel)",
   "language": "python",
   "name": "python3"
  },
  "language_info": {
   "codemirror_mode": {
    "name": "ipython",
    "version": 3
   },
   "file_extension": ".py",
   "mimetype": "text/x-python",
   "name": "python",
   "nbconvert_exporter": "python",
   "pygments_lexer": "ipython3",
   "version": "3.7.12"
  }
 },
 "nbformat": 4,
 "nbformat_minor": 4
}
